{
 "cells": [
  {
   "cell_type": "markdown",
   "metadata": {},
   "source": [
    "# Task belajar ADT list (Unorder List) dengan Python\n",
    "Berikut beberapa baris code dalam bentuk class yang diperlukan untuk memami ADT list pada pembelajaran struktur Data\n",
    "\n",
    ":computer:  Task: Lengkapi fungsi yang terdapat pada class UnoderList dan lakukan pengecekan pada setiap fungsi yang telah anda lengkapi"
   ]
  },
  {
   "cell_type": "code",
   "execution_count": 1,
   "metadata": {},
   "outputs": [
    {
     "name": "stdout",
     "output_type": "stream",
     "text": [
      "10\n",
      "12\n",
      "a\n"
     ]
    }
   ],
   "source": [
    "class Node:\n",
    "      def __init__(self,data:None):\n",
    "            self.data = data\n",
    "            self.next = None\n",
    "            \n",
    "      def getData(self):\n",
    "            return self.data\n",
    "      \n",
    "      def getNext(self):\n",
    "            return self.next\n",
    "      \n",
    "      def setData(self,newdata):\n",
    "            self.data = newdata\n",
    "            \n",
    "      def setNext(self,newnext):\n",
    "            self.next = newnext\n",
    "\n",
    "# Testing/Pengecekan\n",
    "n1 = Node(10)\n",
    "n2 = Node('a')\n",
    "n3 = Node(12)\n",
    "\n",
    "n1.setNext(n3)\n",
    "n3.setNext(n2)\n",
    "\n",
    "c = n1\n",
    "while c :\n",
    "    print(c.data)\n",
    "    c = c.next"
   ]
  },
  {
   "cell_type": "code",
   "execution_count": 17,
   "metadata": {},
   "outputs": [],
   "source": [
    "# UnoderList\n",
    "class UnoderList:\n",
    "      def __init__(self):\n",
    "            self.head = None\n",
    "\n",
    "      def isEmpty(self):\n",
    "            return self.head == None\n",
    "\n",
    "      def add(self,item):\n",
    "            temp = Node(item)\n",
    "            temp.setNext(self.head)\n",
    "            self.head = temp\n",
    "\n",
    "      def size(self):\n",
    "            current = self.head\n",
    "            count = 0\n",
    "            while current != None:\n",
    "                  count = count + 1\n",
    "                  current = current.getNext()\n",
    "            return count\n",
    "\n",
    "      # searches for the item in the list. It needs the item and returns a boolean value.\n",
    "      def search(self,item):\n",
    "            pass\n",
    "      \n",
    "      # Menghapus nilai dari suatu Unorderlist\n",
    "      def remove(self,item):\n",
    "            pass\n",
    "      \n",
    "      # adds a new item to the end of the list making it the last item in the col- lection. \n",
    "      # It needs the item and returns nothing. Assume the item is not already in the list.\n",
    "      def append(self, item):\n",
    "            pass\n",
    "      \n",
    "      # returns the position of item in the list. It needs the item and returns the index. Assume the item is in the list\n",
    "      def index(self, item):\n",
    "            pass\n",
    "      \n",
    "      # adds a new item to the list at position pos. It needs the item and returns nothing. \n",
    "      # Assume the item is not already in the list and there are enough existing items to have position pos.\n",
    "      def insert(self, pos, item):\n",
    "            pass\n",
    "      \n",
    "      # removes and returns the last item in the list. \n",
    "      # It needs nothing and returns an item. Assume the list has at least one item\n",
    "      def pop(self):\n",
    "            pass \n",
    "      \n",
    "      # removes and returns the item at position pos. \n",
    "      # It needs the position and returns the item. Assume the item is in the list\n",
    "      def pop(self, pos):\n",
    "            pass\n",
    "      \n",
    "      # mencetak nilai di dalam unorderlist \n",
    "      def cetak(self):\n",
    "            pass\n",
    "      "
   ]
  },
  {
   "cell_type": "code",
   "execution_count": 20,
   "metadata": {},
   "outputs": [
    {
     "name": "stdout",
     "output_type": "stream",
     "text": [
      "True\n",
      "False\n",
      "6\n",
      "True\n",
      "[\n",
      "4\n",
      "20\n",
      "11\n",
      "1\n",
      "100\n",
      "10\n",
      "]\n"
     ]
    }
   ],
   "source": [
    "# Testing/Pengecekan\n",
    "MyUnorderList = UnoderList()\n",
    "print(MyUnorderList.isEmpty())\n",
    "MyUnorderList.add(10)\n",
    "MyUnorderList.add(100)\n",
    "MyUnorderList.add(1) # 1, 100, 10\n",
    "MyUnorderList.cetak()\n",
    "MyUnorderList.remove(100)\n",
    "MyUnorderList.cetak() # 1, 10\n",
    "\n",
    "print(MyUnorderList.size())\n",
    "print(MyUnorderList.search(1))\n",
    "MyUnorderList.cetak()"
   ]
  }
 ],
 "metadata": {
  "interpreter": {
   "hash": "aee8b7b246df8f9039afb4144a1f6fd8d2ca17a180786b69acc140d282b71a49"
  },
  "kernelspec": {
   "display_name": "Python 3.9.0 64-bit",
   "name": "python3"
  },
  "language_info": {
   "codemirror_mode": {
    "name": "ipython",
    "version": 3
   },
   "file_extension": ".py",
   "mimetype": "text/x-python",
   "name": "python",
   "nbconvert_exporter": "python",
   "pygments_lexer": "ipython3",
   "version": "3.10.4"
  },
  "orig_nbformat": 4
 },
 "nbformat": 4,
 "nbformat_minor": 2
}
